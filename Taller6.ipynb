{
  "nbformat": 4,
  "nbformat_minor": 0,
  "metadata": {
    "colab": {
      "provenance": [],
      "authorship_tag": "ABX9TyNxvYYUtDnw+V/TkQ+LCewm",
      "include_colab_link": true
    },
    "kernelspec": {
      "name": "python3",
      "display_name": "Python 3"
    },
    "language_info": {
      "name": "python"
    }
  },
  "cells": [
    {
      "cell_type": "markdown",
      "metadata": {
        "id": "view-in-github",
        "colab_type": "text"
      },
      "source": [
        "<a href=\"https://colab.research.google.com/github/Rozco01/CD_202202_JEFFERSON_ROZO/blob/main/Taller6.ipynb\" target=\"_parent\"><img src=\"https://colab.research.google.com/assets/colab-badge.svg\" alt=\"Open In Colab\"/></a>"
      ]
    },
    {
      "cell_type": "code",
      "execution_count": 1,
      "metadata": {
        "id": "BbP9c7MAkpqU"
      },
      "outputs": [],
      "source": [
        "import math\n",
        "\n",
        "def distancia(x,y):\n",
        "  return math.sqrt(x**2 + y**2)"
      ]
    },
    {
      "cell_type": "code",
      "source": [
        "cont = 0\n",
        "puntosLado = 1000\n",
        "paso = 1 / (puntosLado - 1)\n",
        "\n",
        "i = 0\n",
        "while i <=1:\n",
        "  j = 0\n",
        "  while j <=1:\n",
        "    if(distancia(i,j) <= 1):\n",
        "      cont += 1\n",
        "    j+=paso\n",
        "  i+=paso\n",
        "\n",
        "\n",
        "print(\"Puntos:\" , cont)\n",
        "print(\"Estimacion de pi\", (cont*4 /(puntosLado**2)))"
      ],
      "metadata": {
        "colab": {
          "base_uri": "https://localhost:8080/"
        },
        "id": "Pga490zwk6J2",
        "outputId": "66b59a90-e4af-4f8b-9054-f83cab10deb3"
      },
      "execution_count": 7,
      "outputs": [
        {
          "output_type": "stream",
          "name": "stdout",
          "text": [
            "Puntos: 784789\n",
            "Estimacion de pi 3.139156\n"
          ]
        }
      ]
    },
    {
      "cell_type": "markdown",
      "source": [
        "# Taller 6"
      ],
      "metadata": {
        "id": "BAgRYazfryD8"
      }
    },
    {
      "cell_type": "code",
      "source": [
        "import random\n",
        "\n",
        "puntosLado = 10000\n",
        "PuntosCirculo = 0\n",
        "PuntosCuadro = 0\n",
        "\n",
        "for i in range(puntosLado**2):\n",
        "  rand_x = random.uniform(-1,1)\n",
        "  rand_y = random.uniform(-1,1)\n",
        "\n",
        "  dist= rand_x**2 + rand_y**2\n",
        "\n",
        "  if dist <= 1:\n",
        "    PuntosCirculo +=1\n",
        "  PuntosCuadro+=1\n",
        "\n",
        "  pi = 4*PuntosCirculo/PuntosCuadro\n",
        "\n",
        "print(\"Final EStimation of Pi= \", pi)"
      ],
      "metadata": {
        "colab": {
          "base_uri": "https://localhost:8080/"
        },
        "id": "jXzYbhf3qQA5",
        "outputId": "c6c5110f-f741-4b6c-d8ce-4f21f4aa93f5"
      },
      "execution_count": 36,
      "outputs": [
        {
          "output_type": "stream",
          "name": "stdout",
          "text": [
            "Final EStimation of Pi=  3.14152592\n"
          ]
        }
      ]
    }
  ]
}