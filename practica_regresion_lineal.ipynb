{
  "nbformat": 4,
  "nbformat_minor": 0,
  "metadata": {
    "colab": {
      "name": "practica_regresion_lineal.ipynb",
      "provenance": [],
      "authorship_tag": "ABX9TyM66QmIs/Mn8RlErKCMTWh2",
      "include_colab_link": true
    },
    "kernelspec": {
      "name": "python3",
      "display_name": "Python 3"
    },
    "language_info": {
      "name": "python"
    }
  },
  "cells": [
    {
      "cell_type": "markdown",
      "metadata": {
        "id": "view-in-github",
        "colab_type": "text"
      },
      "source": [
        "<a href=\"https://colab.research.google.com/github/Rozco01/CD_202202_JEFFERSON_ROZO/blob/main/practica_regresion_lineal.ipynb\" target=\"_parent\"><img src=\"https://colab.research.google.com/assets/colab-badge.svg\" alt=\"Open In Colab\"/></a>"
      ]
    },
    {
      "cell_type": "code",
      "execution_count": 14,
      "metadata": {
        "id": "kQ6Lus98OSda"
      },
      "outputs": [],
      "source": [
        "import numpy as np\n",
        "\n",
        "x = np.array([3,7,8,2,11,6])\n",
        "y = np.array([17,14,14,19,6,16])"
      ]
    },
    {
      "cell_type": "code",
      "source": [
        "m = ((6*(sum(x*y)))-sum(x)*sum(y))/(6*(sum(x**2))-(sum(x))**2)\n",
        "\n",
        "print(m)"
      ],
      "metadata": {
        "colab": {
          "base_uri": "https://localhost:8080/"
        },
        "id": "LWX94kJjPlRF",
        "outputId": "a87daefa-5301-4144-9a65-4c02d178dd45"
      },
      "execution_count": 18,
      "outputs": [
        {
          "output_type": "stream",
          "name": "stdout",
          "text": [
            "-1.2644376899696048\n"
          ]
        }
      ]
    }
  ]
}